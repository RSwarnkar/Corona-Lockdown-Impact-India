{
 "cells": [
  {
   "cell_type": "markdown",
   "metadata": {},
   "source": [
    "# Measuring #21DayLockdown Impact on COVID-19 pandemic spread in India\n",
    "\n",
    "## A Exponential Mathematical Model for Corona Virus spread using Scipy Curve Fitting\n",
    "\n",
    "On 22nd March, 2020, India observed a 14-Hour lockdown against Corona virus pandemic when Prime minister of India called out for a public #Lockdown and curfew. \n",
    "This was one of the longest country-wide lock and curfew in India with good response. Next few days were critical for virus spread. (Markets were crashing worst of all time.)\n",
    "\n",
    "\n",
    "### Flattening the Curve:  #21DaysLockdown:\n",
    "\n",
    "On Night of 23rd March, PM of Government of India announced 100% #21DaysLockdown and extending the Section144 Curfew against the Corona (COVID19) pandemic starting from 24th March, 2020 till 14th April, 2020.\n",
    "\n",
    "This was the first of its kind of lockdown at such massive scale. \n",
    "This triggered a country-wide lockdown of about 100 Crore+ people in their homes in intent to `flatten the curve` of the pandemic.\n",
    "\n",
    "On 24th of March, nearly 170 Crore people across the World were already in locked-down state in their homes due to the sever spread of the pandemic, killing more than 18,000 people across globe.\n",
    "\n",
    "### Measuring Impact:\n",
    "\n",
    "This Jupyter is hypothetical modeling of the corona virus spread by counting the number of cases reported each day (cumulative), in order to check the impact of the #21DaysLockdown by extending (extrapolating) 21 days further from 23rd March and compare with actual reported case.\n",
    "\n",
    "If a flattening curve appreas against the extrpolated curve, then this 'may' suggest the pandemic is in control in India. And #21DaysLockdown had good impact. "
   ]
  },
  {
   "cell_type": "markdown",
   "metadata": {},
   "source": [
    "## Loading & Exploring Data\n",
    "\n",
    "* Source of the data: [wikipedia](https://en.wikipedia.org/wiki/Timeline_of_the_2020_coronavirus_pandemic_in_India#January)\n",
    "    "
   ]
  },
  {
   "cell_type": "code",
   "execution_count": 1,
   "metadata": {},
   "outputs": [],
   "source": [
    "import numpy as np\n",
    "import pandas as pd\n",
    "import plotly.graph_objs as go \n",
    "import plotly.offline as pyo\n",
    "import matplotlib\n",
    "%matplotlib inline"
   ]
  },
  {
   "cell_type": "code",
   "execution_count": 35,
   "metadata": {},
   "outputs": [],
   "source": [
    "df = pd.read_csv(\"data/covid19-total-cases-india.csv\", parse_dates=['Date'])"
   ]
  },
  {
   "cell_type": "code",
   "execution_count": 36,
   "metadata": {},
   "outputs": [
    {
     "data": {
      "text/html": [
       "<div>\n",
       "<style scoped>\n",
       "    .dataframe tbody tr th:only-of-type {\n",
       "        vertical-align: middle;\n",
       "    }\n",
       "\n",
       "    .dataframe tbody tr th {\n",
       "        vertical-align: top;\n",
       "    }\n",
       "\n",
       "    .dataframe thead th {\n",
       "        text-align: right;\n",
       "    }\n",
       "</style>\n",
       "<table border=\"1\" class=\"dataframe\">\n",
       "  <thead>\n",
       "    <tr style=\"text-align: right;\">\n",
       "      <th></th>\n",
       "      <th>Date</th>\n",
       "      <th>Commulative Total Count of Confirmed Cases In India</th>\n",
       "    </tr>\n",
       "  </thead>\n",
       "  <tbody>\n",
       "    <tr>\n",
       "      <th>0</th>\n",
       "      <td>2020-03-14</td>\n",
       "      <td>100.0</td>\n",
       "    </tr>\n",
       "    <tr>\n",
       "      <th>1</th>\n",
       "      <td>2020-03-15</td>\n",
       "      <td>110.0</td>\n",
       "    </tr>\n",
       "    <tr>\n",
       "      <th>2</th>\n",
       "      <td>2020-03-16</td>\n",
       "      <td>114.0</td>\n",
       "    </tr>\n",
       "    <tr>\n",
       "      <th>3</th>\n",
       "      <td>2020-03-17</td>\n",
       "      <td>140.0</td>\n",
       "    </tr>\n",
       "    <tr>\n",
       "      <th>4</th>\n",
       "      <td>2020-03-18</td>\n",
       "      <td>170.0</td>\n",
       "    </tr>\n",
       "  </tbody>\n",
       "</table>\n",
       "</div>"
      ],
      "text/plain": [
       "        Date  Commulative Total Count of Confirmed Cases In India\n",
       "0 2020-03-14                                              100.0  \n",
       "1 2020-03-15                                              110.0  \n",
       "2 2020-03-16                                              114.0  \n",
       "3 2020-03-17                                              140.0  \n",
       "4 2020-03-18                                              170.0  "
      ]
     },
     "execution_count": 36,
     "metadata": {},
     "output_type": "execute_result"
    }
   ],
   "source": [
    "df.head()"
   ]
  },
  {
   "cell_type": "code",
   "execution_count": 37,
   "metadata": {},
   "outputs": [
    {
     "name": "stdout",
     "output_type": "stream",
     "text": [
      "<class 'pandas.core.frame.DataFrame'>\n",
      "RangeIndex: 48 entries, 0 to 47\n",
      "Data columns (total 2 columns):\n",
      "Date                                                   48 non-null datetime64[ns]\n",
      "Commulative Total Count of Confirmed Cases In India    24 non-null float64\n",
      "dtypes: datetime64[ns](1), float64(1)\n",
      "memory usage: 896.0 bytes\n"
     ]
    }
   ],
   "source": [
    "df.info()"
   ]
  },
  {
   "cell_type": "code",
   "execution_count": 38,
   "metadata": {},
   "outputs": [
    {
     "data": {
      "text/plain": [
       "<matplotlib.axes._subplots.AxesSubplot at 0x2703a675c88>"
      ]
     },
     "execution_count": 38,
     "metadata": {},
     "output_type": "execute_result"
    },
    {
     "data": {
      "image/png": "[encoded data removed]",
      "text/plain": [
       "<Figure size 432x288 with 1 Axes>"
      ]
     },
     "metadata": {
      "needs_background": "light"
     },
     "output_type": "display_data"
    }
   ],
   "source": [
    "# Basic Plot\n",
    "df['Commulative Total Count of Confirmed Cases In India'].plot()"
   ]
  },
  {
   "cell_type": "markdown",
   "metadata": {},
   "source": [
    "### Plotly Interactive Chart"
   ]
  },
  {
   "cell_type": "code",
   "execution_count": 39,
   "metadata": {},
   "outputs": [
    {
     "data": {
      "text/plain": [
       "'InteractiveCharts/Real-Cases-Count-Chart.html'"
      ]
     },
     "execution_count": 39,
     "metadata": {},
     "output_type": "execute_result"
    }
   ],
   "source": [
    "# Plotly Interactive Chart\n",
    "\n",
    "trace1 = go.Scatter(x=df['Date'],\n",
    "                    y=df['Commulative Total Count of Confirmed Cases In India'],\n",
    "                    name=\"Commulative Total Count of Confirmed Cases In India\",\n",
    "                    mode='lines+markers')\n",
    "\n",
    "data = [trace1]\n",
    "\n",
    "layout = go.Layout(title='COVID-19 in India: Commulative Total Count of Confirmed Cases', \n",
    "                   xaxis_title=\"Date\",\n",
    "                   yaxis_title=\"# Cases\",\n",
    "                   font=dict(\n",
    "                       family=\"Courier New, monospace\",\n",
    "                       size=14,\n",
    "                       color=\"#000\")\n",
    "                   )\n",
    "\n",
    "\n",
    "fig = go.Figure(data=data,layout=layout)\n",
    "\n",
    "pyo.plot(fig,filename=\"InteractiveCharts/Real-Cases-Count-Chart.html\")"
   ]
  },
  {
   "cell_type": "markdown",
   "metadata": {},
   "source": [
    "## Analyzing the Order of the Curve\n",
    "When curve is diffrentiated multiple times, after some differenece the series will turn stationary.\n",
    "\n",
    "Stationarity can be checked using Augmented Dickey Fuller Test:\n",
    "\n",
    "* `p-value > 0.05`: Fail to reject the null hypothesis (H0), the data has a unit root and is non-stationary.\n",
    "* `p-value <= 0.05` : Reject the null hypothesis (H0), the data does not have a unit root and is stationary.\n",
    "\n",
    "Reference: \n",
    "* [machinelearningmastery](https://machinelearningmastery.com/time-series-data-stationary-python/)"
   ]
  },
  {
   "cell_type": "code",
   "execution_count": 44,
   "metadata": {},
   "outputs": [
    {
     "data": {
      "text/plain": [
       "<matplotlib.axes._subplots.AxesSubplot at 0x27035a7f6c8>"
      ]
     },
     "execution_count": 44,
     "metadata": {},
     "output_type": "execute_result"
    },
    {
     "data": {
      "image/png": "[encoded data removed]",
      "text/plain": [
       "<Figure size 432x288 with 1 Axes>"
      ]
     },
     "metadata": {
      "needs_background": "light"
     },
     "output_type": "display_data"
    }
   ],
   "source": [
    "df['Commulative Total Count of Confirmed Cases In India'].diff().diff().plot()"
   ]
  },
  {
   "cell_type": "code",
   "execution_count": 46,
   "metadata": {},
   "outputs": [
    {
     "name": "stdout",
     "output_type": "stream",
     "text": [
      "ADF Statistic: -3.795306\n",
      "p-value: 0.002956\n",
      "Critical Values:\n",
      "\t1%: -4.138\n",
      "\t5%: -3.155\n",
      "\t10%: -2.714\n",
      "p-value <= 0.05: Reject the null hypothesis (H0), the data does not have a unit root and is stationary\n"
     ]
    }
   ],
   "source": [
    "from statsmodels.tsa.stattools import adfuller\n",
    "\n",
    "# Differntiantion multiple times to make the data stationary\n",
    "# to confirm data stationarity we use the Augmented Dickey Fuller Test \n",
    "\n",
    "X = df['Commulative Total Count of Confirmed Cases In India'].diff().diff().diff().dropna().values\n",
    "\n",
    "result = adfuller(X)\n",
    "print('ADF Statistic: %f' % result[0])\n",
    "print('p-value: %f' % result[1])\n",
    "print('Critical Values:')\n",
    "for key, value in result[4].items():\n",
    "    print('\\t%s: %.3f' % (key, value))\n",
    "\n",
    "if(result[1]>0.05):\n",
    "    print('p-value > 0.05: Fail to reject the null hypothesis (H0), the data has a unit root and is non-stationary');\n",
    "\n",
    "if(result[1]<=0.05):\n",
    "    print('p-value <= 0.05: Reject the null hypothesis (H0), the data does not have a unit root and is stationary');\n"
   ]
  },
  {
   "cell_type": "markdown",
   "metadata": {},
   "source": [
    "#### Order of the curve is 3\n",
    "* Hence, need to apply, cubic and exponential curve fitting and check which fits the best "
   ]
  },
  {
   "cell_type": "code",
   "execution_count": 47,
   "metadata": {},
   "outputs": [],
   "source": [
    "import matplotlib.pyplot as plt\n",
    "from scipy.optimize import curve_fit as cvfit"
   ]
  },
  {
   "cell_type": "code",
   "execution_count": 48,
   "metadata": {},
   "outputs": [
    {
     "data": {
      "text/plain": [
       "array([ 0,  1,  2,  3,  4,  5,  6,  7,  8,  9, 10, 11, 12, 13, 14, 15, 16,\n",
       "       17, 18, 19, 20, 21, 22, 23], dtype=int64)"
      ]
     },
     "execution_count": 48,
     "metadata": {},
     "output_type": "execute_result"
    }
   ],
   "source": [
    "# Drop Null values because Scipy will not accept the null values.\n",
    "x_data = df['Commulative Total Count of Confirmed Cases In India'].dropna().index.values \n",
    "x_data"
   ]
  },
  {
   "cell_type": "code",
   "execution_count": 49,
   "metadata": {},
   "outputs": [
    {
     "data": {
      "text/plain": [
       "array([ 100.,  110.,  114.,  140.,  170.,  198.,  249.,  329.,  391.,\n",
       "        468.,  519.,  606.,  694.,  834.,  918., 1024., 1251., 1397.,\n",
       "       1834., 2069., 2547., 3072., 3577., 4281.])"
      ]
     },
     "execution_count": 49,
     "metadata": {},
     "output_type": "execute_result"
    }
   ],
   "source": [
    "y_data = df['Commulative Total Count of Confirmed Cases In India'].dropna().values\n",
    "y_data"
   ]
  },
  {
   "cell_type": "code",
   "execution_count": 50,
   "metadata": {},
   "outputs": [],
   "source": [
    "# Prepare fit function\n",
    "def exponential_1(x, a, b, c):\n",
    "    return a * np.exp(b * x) + c\n",
    "\n",
    "def exponential_2(x, a, b):\n",
    "    return a * np.exp(b * x)\n",
    "\n",
    "def exponential_3(x, a, b): # Warning: Divide by zero\n",
    "    return a*np.exp(x/b)\n",
    "\n",
    "# y = a(1 + r)^b : https://mathbitsnotebook.com/Algebra2/Exponential/EXGrowthDecay.html\n",
    "# r is the rate of growth\n",
    "def exponential_4(x, a, r):\n",
    "    return a * np.power(1+r,x)\n",
    "\n",
    "def cubic_1(x, a):\n",
    "    return a * np.power(x,3)\n"
   ]
  },
  {
   "cell_type": "code",
   "execution_count": 51,
   "metadata": {},
   "outputs": [
    {
     "name": "stdout",
     "output_type": "stream",
     "text": [
      "Exponential 1 Fit Parameters and Cov:\n",
      "[72.72071634  0.17660713 48.97822938]\n",
      "[[ 4.00062820e+01 -2.39621772e-02 -1.22846661e+02]\n",
      " [-2.39621772e-02  1.44870439e-05  7.09580952e-02]\n",
      " [-1.22846661e+02  7.09580952e-02  5.23204725e+02]]\n",
      "\n",
      "\n",
      "Exponential 2 Fit Parameters and Cov:\n",
      "[85.05037381  0.17001928]\n",
      "[[ 1.55207022e+01 -8.71194291e-03]\n",
      " [-8.71194291e-03  4.98750879e-06]]\n",
      "\n",
      "\n",
      "Exponential 3 Fit Parameters and Cov:\n",
      "[85.05037453  5.88168606]\n",
      "[[1.55207071e+01 3.01384085e-01]\n",
      " [3.01384085e-01 5.96889756e-03]]\n",
      "\n",
      "\n",
      "Cubit Fit Parameters:\n",
      "0.7043320608537985\n",
      "-12.853940745245032\n",
      "105.3647703343348\n",
      "-10.893162393160335\n"
     ]
    }
   ],
   "source": [
    "# Fit exponential_1\n",
    "param_exponential_1, param_cov_exponential_1 = cvfit(exponential_1, x_data, y_data) \n",
    "\n",
    "# Fit exponential_2\n",
    "param_exponential_2, param_cov_exponential_2 = cvfit(exponential_2, x_data, y_data) \n",
    "\n",
    "# Fit exponential_3\n",
    "param_exponential_3, param_cov_exponential_3 = cvfit(exponential_3, x_data, y_data) \n",
    "\n",
    "def exponential_3(x, a, b):\n",
    "    return a*np.exp(x/b)\n",
    "\n",
    "\n",
    "print(\"Exponential 1 Fit Parameters and Cov:\")\n",
    "print(param_exponential_1)\n",
    "print(param_cov_exponential_1)\n",
    "\n",
    "print(\"\\n\")\n",
    "\n",
    "print(\"Exponential 2 Fit Parameters and Cov:\")\n",
    "print(param_exponential_2)\n",
    "print(param_cov_exponential_2)\n",
    "\n",
    "\n",
    "print(\"\\n\")\n",
    "\n",
    "print(\"Exponential 3 Fit Parameters and Cov:\")\n",
    "print(param_exponential_3)\n",
    "print(param_cov_exponential_3)\n",
    "\n",
    "print(\"\\n\")\n",
    "\n",
    "# model for cubic_1\n",
    "# f(x) = a.x^3 + b.x^2 + c.x + d\n",
    "cubic_fit = np.polyfit(x_data, y_data, 3)\n",
    "\n",
    "print(\"Cubit Fit Parameters:\")\n",
    "for i in cubic_fit:\n",
    "    print(i)"
   ]
  },
  {
   "cell_type": "code",
   "execution_count": 52,
   "metadata": {},
   "outputs": [],
   "source": [
    "# model for exponential_1\n",
    "exp_fit1 = param_exponential_1[0] * np.exp(param_exponential_1[1]*x_data) + param_exponential_1[2]\n",
    "\n",
    "# model for exponential_2\n",
    "exp_fit2 = param_exponential_2[0] * np.exp(param_exponential_2[1]*x_data)\n",
    "\n",
    "# model for exponential_3 \n",
    "exp_fit3 = param_exponential_3[0] * np.exp(x_data/param_exponential_3[1])  # Divide by zero\n",
    "\n",
    "# model for cubic_1\n",
    "# f(x) = a.x^3 + b.x^2 + c.x + d\n",
    "cubic_fit1 = cubic_fit[0] * np.power(x_data,3) + \\\n",
    "              cubic_fit[1] * np.power(x_data,2) + \\\n",
    "               cubic_fit[2] * x_data + \\\n",
    "                cubic_fit[3]\n"
   ]
  },
  {
   "cell_type": "code",
   "execution_count": 61,
   "metadata": {},
   "outputs": [
    {
     "data": {
      "image/png": "[encoded data removed]",
      "text/plain": [
       "<Figure size 432x288 with 1 Axes>"
      ]
     },
     "metadata": {
      "needs_background": "light"
     },
     "output_type": "display_data"
    }
   ],
   "source": [
    "plt.plot(x_data, y_data, 'o', color ='red', label =\"Corona-Actual\") \n",
    "\n",
    "#plt.plot(x_data, exp_fit1, '--', color ='green', label =\"Exponential 1 fit\") # Bad Fit\n",
    "\n",
    "plt.plot(x_data, exp_fit2, '--', color ='blue', label =\"Exponential 2 fit\") # Best fit\n",
    "\n",
    "#plt.plot(x_data, exp_fit3, color ='goldenrod', label =\"Exponential 3 fit\") # very very bad fit\n",
    "\n",
    "plt.plot(x_data, cubic_fit1, '.', color ='goldenrod', label =\"Cubic fit\") # Not so good fit\n",
    "\n",
    "plt.legend() \n",
    "plt.show() "
   ]
  },
  {
   "cell_type": "markdown",
   "metadata": {},
   "source": [
    "## Parameters of best fit exponential curve fitting is : \n",
    "\n",
    "#### Conclusion 1: Exponential Curve fits best with the current  available dataset. \n",
    "\n",
    "Mathemathetical Model for Corona Spread in india is:  \n",
    "\n",
    "\\begin{equation} N(day_n)  = 85.05037381 * e^{day_n*0.17001928} \\end{equation}\n"
   ]
  },
  {
   "cell_type": "code",
   "execution_count": 62,
   "metadata": {},
   "outputs": [
    {
     "data": {
      "text/plain": [
       "'InteractiveCharts/Comparing-Curve-Fittings.html'"
      ]
     },
     "execution_count": 62,
     "metadata": {},
     "output_type": "execute_result"
    }
   ],
   "source": [
    "trace1 = go.Scatter(x=df['Date'],\n",
    "                    y=df['Commulative Total Count of Confirmed Cases In India'],\n",
    "                    name=\"Actual Data\",\n",
    "                    mode='lines+markers')\n",
    "\n",
    "trace2 =  go.Scatter(x=df['Date'],\n",
    "                    y=exp_fit2,\n",
    "                    name=\"Exponential Fit\",\n",
    "                    mode='lines+markers')\n",
    "trace3 =  go.Scatter(x=df['Date'],\n",
    "                    y=cubic_fit1,\n",
    "                    name=\"Cubit Fit\",\n",
    "                    mode='lines+markers')\n",
    "\n",
    "data = [trace1, trace2, trace3]\n",
    "\n",
    "layout = go.Layout(title='COVID-19: Commulative Total Count of Confirmed Cases In India : Exponential and Cubit Fit')\n",
    "\n",
    "fig = go.Figure(data=data,layout=layout)\n",
    "\n",
    "pyo.plot(fig,filename=\"InteractiveCharts/Comparing-Curve-Fittings.html\")"
   ]
  },
  {
   "cell_type": "markdown",
   "metadata": {},
   "source": [
    "# Model Prediction in Future\n",
    "This is hypothetical prediction, if the situation does remains same, then the spread will fit approximately as per the model. \n",
    "\n",
    "However, due to multiple (known/unknown) factors such as lockdown, awareness in people, increase in temperature etc. the model may over predict. Or may under-predict if the situations get out of hand.   \n",
    "\n",
    "\n",
    "#### Extrapolating the model outcome \n",
    "Extrapolating the model outcome into Next <del>21 Days</del> 30 days i.e. 24th March to 30 April, 2020\n",
    "\n"
   ]
  },
  {
   "cell_type": "code",
   "execution_count": 63,
   "metadata": {},
   "outputs": [
    {
     "data": {
      "text/plain": [
       "array([ 0,  1,  2,  3,  4,  5,  6,  7,  8,  9, 10, 11, 12, 13, 14, 15, 16,\n",
       "       17, 18, 19, 20, 21, 22, 23, 24, 25, 26, 27, 28, 29, 30, 31, 32, 33,\n",
       "       34, 35, 36, 37, 38, 39, 40, 41, 42, 43, 44, 45, 46, 47],\n",
       "      dtype=int64)"
      ]
     },
     "execution_count": 63,
     "metadata": {},
     "output_type": "execute_result"
    }
   ],
   "source": [
    "len(df.index.values)\n",
    "df.index.values"
   ]
  },
  {
   "cell_type": "code",
   "execution_count": 64,
   "metadata": {},
   "outputs": [
    {
     "data": {
      "text/plain": [
       "array([ 0,  1,  2,  3,  4,  5,  6,  7,  8,  9, 10, 11, 12, 13, 14, 15, 16,\n",
       "       17, 18, 19, 20, 21, 22, 23, 24, 25, 26, 27, 28, 29, 30, 31, 32, 33,\n",
       "       34, 35, 36, 37, 38, 39, 40, 41, 42, 43, 44, 45, 46, 47],\n",
       "      dtype=int64)"
      ]
     },
     "execution_count": 64,
     "metadata": {},
     "output_type": "execute_result"
    }
   ],
   "source": [
    "x_hypo = df.index.values\n",
    "x_hypo"
   ]
  },
  {
   "cell_type": "code",
   "execution_count": 65,
   "metadata": {},
   "outputs": [],
   "source": [
    "y_hypo = param_exponential_2[0] * np.exp(param_exponential_2[1] * x_hypo)\n"
   ]
  },
  {
   "cell_type": "code",
   "execution_count": 66,
   "metadata": {},
   "outputs": [],
   "source": [
    "# Co-efficient Store:\n",
    "# a * np.exp(b * x)\n",
    "# (a,b) = (0.05895335,0.16472439)"
   ]
  },
  {
   "cell_type": "markdown",
   "metadata": {},
   "source": [
    "# Comparing Trends\n",
    "#### Comparing the exponential model trend vs the actual curve trend "
   ]
  },
  {
   "cell_type": "code",
   "execution_count": 67,
   "metadata": {},
   "outputs": [
    {
     "data": {
      "image/png": "[encoded data removed]",
      "text/plain": [
       "<Figure size 432x288 with 1 Axes>"
      ]
     },
     "metadata": {
      "needs_background": "light"
     },
     "output_type": "display_data"
    }
   ],
   "source": [
    "plt.plot(x_data, y_data, 'o', color ='red', label =\"Corona-Actual\") \n",
    "plt.plot(x_hypo, y_hypo, '--', color ='blue', label =\"Extrapolated\") \n",
    "plt.legend() \n",
    "plt.show() "
   ]
  },
  {
   "cell_type": "markdown",
   "metadata": {},
   "source": [
    "## Result: Plotly Interactive Chart "
   ]
  },
  {
   "cell_type": "code",
   "execution_count": 68,
   "metadata": {},
   "outputs": [
    {
     "data": {
      "text/plain": [
       "'InteractiveCharts/COVID19-Cases-India-Compared01.html'"
      ]
     },
     "execution_count": 68,
     "metadata": {},
     "output_type": "execute_result"
    }
   ],
   "source": [
    "\n",
    "trace_2 = go.Scatter(x=df['Date'],\n",
    "                     y=y_hypo, \n",
    "                     name=\"Modeled\", mode='lines+markers', line = dict(color='plum'))\n",
    "\n",
    "trace_1 = go.Scatter(x=df['Date'],\n",
    "                     y=df['Commulative Total Count of Confirmed Cases In India'],\n",
    "                     name=\"Actual\", line = dict(color='red', width=4, dash='solid') )\n",
    "\n",
    "\n",
    "data = [trace_2, trace_1]\n",
    "\n",
    "layout = go.Layout(title='Measuring Impact of #21DayLockdown on COVID-19 pandemic spread in India',\n",
    "                   xaxis_title='Daily count of COVID-19 Spread in India',\n",
    "                   yaxis_title='# of Cases')\n",
    "\n",
    "fig = go.Figure(data=data, layout=layout)\n",
    "pyo.plot(fig, filename=\"InteractiveCharts/COVID19-Cases-India-Compared01.html\")\n",
    "\n",
    "\n",
    "\n"
   ]
  },
  {
   "cell_type": "markdown",
   "metadata": {},
   "source": [
    "### Store Extrapolated Data in a File"
   ]
  },
  {
   "cell_type": "code",
   "execution_count": 69,
   "metadata": {},
   "outputs": [
    {
     "data": {
      "text/html": [
       "<div>\n",
       "<style scoped>\n",
       "    .dataframe tbody tr th:only-of-type {\n",
       "        vertical-align: middle;\n",
       "    }\n",
       "\n",
       "    .dataframe tbody tr th {\n",
       "        vertical-align: top;\n",
       "    }\n",
       "\n",
       "    .dataframe thead th {\n",
       "        text-align: right;\n",
       "    }\n",
       "</style>\n",
       "<table border=\"1\" class=\"dataframe\">\n",
       "  <thead>\n",
       "    <tr style=\"text-align: right;\">\n",
       "      <th></th>\n",
       "      <th>Date</th>\n",
       "      <th>Extrapolated</th>\n",
       "    </tr>\n",
       "  </thead>\n",
       "  <tbody>\n",
       "    <tr>\n",
       "      <th>43</th>\n",
       "      <td>2020-04-26</td>\n",
       "      <td>127270.822799</td>\n",
       "    </tr>\n",
       "    <tr>\n",
       "      <th>44</th>\n",
       "      <td>2020-04-27</td>\n",
       "      <td>150857.631515</td>\n",
       "    </tr>\n",
       "    <tr>\n",
       "      <th>45</th>\n",
       "      <td>2020-04-28</td>\n",
       "      <td>178815.729212</td>\n",
       "    </tr>\n",
       "    <tr>\n",
       "      <th>46</th>\n",
       "      <td>2020-04-29</td>\n",
       "      <td>211955.236818</td>\n",
       "    </tr>\n",
       "    <tr>\n",
       "      <th>47</th>\n",
       "      <td>2020-04-30</td>\n",
       "      <td>251236.413109</td>\n",
       "    </tr>\n",
       "  </tbody>\n",
       "</table>\n",
       "</div>"
      ],
      "text/plain": [
       "         Date   Extrapolated\n",
       "43 2020-04-26  127270.822799\n",
       "44 2020-04-27  150857.631515\n",
       "45 2020-04-28  178815.729212\n",
       "46 2020-04-29  211955.236818\n",
       "47 2020-04-30  251236.413109"
      ]
     },
     "execution_count": 69,
     "metadata": {},
     "output_type": "execute_result"
    }
   ],
   "source": [
    "df_out = pd.DataFrame({'Date': list(df['Date'].values), 'Extrapolated': list(y_hypo)}, columns=['Date', 'Extrapolated'])\n",
    "df_out.tail()"
   ]
  },
  {
   "cell_type": "code",
   "execution_count": 70,
   "metadata": {},
   "outputs": [],
   "source": [
    "df_out.to_csv('data/covid19-extrapolated-cases-india.csv', index=False)"
   ]
  },
  {
   "cell_type": "markdown",
   "metadata": {},
   "source": [
    "# Comparing Predictions\n",
    "### Exponential model vs the actual trend\n",
    "\n",
    "Let's compare the actual cases each day reported, everyday till 30th April and see how things progress. "
   ]
  },
  {
   "cell_type": "code",
   "execution_count": 76,
   "metadata": {},
   "outputs": [],
   "source": [
    "df_extrapolated = pd.read_csv('data/covid19-extrapolated-cases-india.csv', parse_dates=['Date'])\n",
    "df_real         = pd.read_csv('data/covid19-total-cases-india.csv', parse_dates=['Date'])"
   ]
  },
  {
   "cell_type": "code",
   "execution_count": 77,
   "metadata": {},
   "outputs": [
    {
     "data": {
      "text/html": [
       "<div>\n",
       "<style scoped>\n",
       "    .dataframe tbody tr th:only-of-type {\n",
       "        vertical-align: middle;\n",
       "    }\n",
       "\n",
       "    .dataframe tbody tr th {\n",
       "        vertical-align: top;\n",
       "    }\n",
       "\n",
       "    .dataframe thead th {\n",
       "        text-align: right;\n",
       "    }\n",
       "</style>\n",
       "<table border=\"1\" class=\"dataframe\">\n",
       "  <thead>\n",
       "    <tr style=\"text-align: right;\">\n",
       "      <th></th>\n",
       "      <th>Date</th>\n",
       "      <th>Extrapolated</th>\n",
       "    </tr>\n",
       "  </thead>\n",
       "  <tbody>\n",
       "    <tr>\n",
       "      <th>43</th>\n",
       "      <td>2020-04-26</td>\n",
       "      <td>127270.822799</td>\n",
       "    </tr>\n",
       "    <tr>\n",
       "      <th>44</th>\n",
       "      <td>2020-04-27</td>\n",
       "      <td>150857.631515</td>\n",
       "    </tr>\n",
       "    <tr>\n",
       "      <th>45</th>\n",
       "      <td>2020-04-28</td>\n",
       "      <td>178815.729212</td>\n",
       "    </tr>\n",
       "    <tr>\n",
       "      <th>46</th>\n",
       "      <td>2020-04-29</td>\n",
       "      <td>211955.236818</td>\n",
       "    </tr>\n",
       "    <tr>\n",
       "      <th>47</th>\n",
       "      <td>2020-04-30</td>\n",
       "      <td>251236.413109</td>\n",
       "    </tr>\n",
       "  </tbody>\n",
       "</table>\n",
       "</div>"
      ],
      "text/plain": [
       "         Date   Extrapolated\n",
       "43 2020-04-26  127270.822799\n",
       "44 2020-04-27  150857.631515\n",
       "45 2020-04-28  178815.729212\n",
       "46 2020-04-29  211955.236818\n",
       "47 2020-04-30  251236.413109"
      ]
     },
     "execution_count": 77,
     "metadata": {},
     "output_type": "execute_result"
    }
   ],
   "source": [
    "df_extrapolated.tail()"
   ]
  },
  {
   "cell_type": "code",
   "execution_count": 78,
   "metadata": {},
   "outputs": [
    {
     "data": {
      "text/html": [
       "<div>\n",
       "<style scoped>\n",
       "    .dataframe tbody tr th:only-of-type {\n",
       "        vertical-align: middle;\n",
       "    }\n",
       "\n",
       "    .dataframe tbody tr th {\n",
       "        vertical-align: top;\n",
       "    }\n",
       "\n",
       "    .dataframe thead th {\n",
       "        text-align: right;\n",
       "    }\n",
       "</style>\n",
       "<table border=\"1\" class=\"dataframe\">\n",
       "  <thead>\n",
       "    <tr style=\"text-align: right;\">\n",
       "      <th></th>\n",
       "      <th>Date</th>\n",
       "      <th>Commulative Total Count of Confirmed Cases In India</th>\n",
       "    </tr>\n",
       "  </thead>\n",
       "  <tbody>\n",
       "    <tr>\n",
       "      <th>43</th>\n",
       "      <td>2020-04-26</td>\n",
       "      <td>NaN</td>\n",
       "    </tr>\n",
       "    <tr>\n",
       "      <th>44</th>\n",
       "      <td>2020-04-27</td>\n",
       "      <td>NaN</td>\n",
       "    </tr>\n",
       "    <tr>\n",
       "      <th>45</th>\n",
       "      <td>2020-04-28</td>\n",
       "      <td>NaN</td>\n",
       "    </tr>\n",
       "    <tr>\n",
       "      <th>46</th>\n",
       "      <td>2020-04-29</td>\n",
       "      <td>NaN</td>\n",
       "    </tr>\n",
       "    <tr>\n",
       "      <th>47</th>\n",
       "      <td>2020-04-30</td>\n",
       "      <td>NaN</td>\n",
       "    </tr>\n",
       "  </tbody>\n",
       "</table>\n",
       "</div>"
      ],
      "text/plain": [
       "         Date  Commulative Total Count of Confirmed Cases In India\n",
       "43 2020-04-26                                                NaN  \n",
       "44 2020-04-27                                                NaN  \n",
       "45 2020-04-28                                                NaN  \n",
       "46 2020-04-29                                                NaN  \n",
       "47 2020-04-30                                                NaN  "
      ]
     },
     "execution_count": 78,
     "metadata": {},
     "output_type": "execute_result"
    }
   ],
   "source": [
    "df_real.tail()"
   ]
  },
  {
   "cell_type": "code",
   "execution_count": 120,
   "metadata": {},
   "outputs": [
    {
     "data": {
      "text/plain": [
       "'InteractiveCharts/COVID19-Cases-India-Compared02-Final.html'"
      ]
     },
     "execution_count": 120,
     "metadata": {},
     "output_type": "execute_result"
    }
   ],
   "source": [
    "trace_2 = go.Scatter(x=df_extrapolated['Date'],\n",
    "                     y=df_extrapolated['Extrapolated'], \n",
    "                     name=\"Modeled\", mode='lines', line = dict(color='#00ccff', dash='dot', width=3))\n",
    "\n",
    "trace_1 = go.Scatter(x=df_real['Date'],\n",
    "                     y=df_real['Commulative Total Count of Confirmed Cases In India'],\n",
    "                     name=\"Actual\", mode='lines+markers',line = dict(color='red') )\n",
    "\n",
    "\n",
    "data = [trace_2, trace_1]\n",
    "\n",
    "layout = go.Layout( title=dict(text='Measuring Impact of #21DayLockdown on COVID-19 pandemic spread in India',\n",
    "                               font=dict(color = '#ffdd00')\n",
    "                              ),\n",
    "                   xaxis_title='Daily commulative cases',\n",
    "                   yaxis_title='# of Cases',\n",
    "                   paper_bgcolor='#333',\n",
    "                   plot_bgcolor='#333',\n",
    "                   font=dict(size=14, color=\"#fff\"  )\n",
    "                   #font=dict(  family=\"Courier New, monospace\", size=14, color=\"#7f7f7f\"  )\n",
    "                  )\n",
    "\n",
    "fig = go.Figure(data=data, layout=layout)\n",
    "pyo.plot(fig, filename=\"InteractiveCharts/COVID19-Cases-India-Compared02-Final.html\")"
   ]
  },
  {
   "cell_type": "code",
   "execution_count": 81,
   "metadata": {},
   "outputs": [
    {
     "data": {
      "text/html": [
       "<div>\n",
       "<style scoped>\n",
       "    .dataframe tbody tr th:only-of-type {\n",
       "        vertical-align: middle;\n",
       "    }\n",
       "\n",
       "    .dataframe tbody tr th {\n",
       "        vertical-align: top;\n",
       "    }\n",
       "\n",
       "    .dataframe thead th {\n",
       "        text-align: right;\n",
       "    }\n",
       "</style>\n",
       "<table border=\"1\" class=\"dataframe\">\n",
       "  <thead>\n",
       "    <tr style=\"text-align: right;\">\n",
       "      <th></th>\n",
       "      <th>Date</th>\n",
       "      <th>Extrapolated</th>\n",
       "      <th>Actual</th>\n",
       "      <th>Predicted Minus Actual</th>\n",
       "      <th>Extrapolated Minus Actual</th>\n",
       "    </tr>\n",
       "  </thead>\n",
       "  <tbody>\n",
       "    <tr>\n",
       "      <th>18</th>\n",
       "      <td>2020-04-01</td>\n",
       "      <td>1814.546171</td>\n",
       "      <td>1834.0</td>\n",
       "      <td>-19.453829</td>\n",
       "      <td>-19.453829</td>\n",
       "    </tr>\n",
       "    <tr>\n",
       "      <th>19</th>\n",
       "      <td>2020-04-02</td>\n",
       "      <td>2150.831837</td>\n",
       "      <td>2069.0</td>\n",
       "      <td>81.831837</td>\n",
       "      <td>81.831837</td>\n",
       "    </tr>\n",
       "    <tr>\n",
       "      <th>20</th>\n",
       "      <td>2020-04-03</td>\n",
       "      <td>2549.440552</td>\n",
       "      <td>2547.0</td>\n",
       "      <td>2.440552</td>\n",
       "      <td>2.440552</td>\n",
       "    </tr>\n",
       "    <tr>\n",
       "      <th>21</th>\n",
       "      <td>2020-04-04</td>\n",
       "      <td>3021.922503</td>\n",
       "      <td>3072.0</td>\n",
       "      <td>-50.077497</td>\n",
       "      <td>-50.077497</td>\n",
       "    </tr>\n",
       "    <tr>\n",
       "      <th>22</th>\n",
       "      <td>2020-04-05</td>\n",
       "      <td>3581.968447</td>\n",
       "      <td>3577.0</td>\n",
       "      <td>4.968447</td>\n",
       "      <td>4.968447</td>\n",
       "    </tr>\n",
       "    <tr>\n",
       "      <th>23</th>\n",
       "      <td>2020-04-06</td>\n",
       "      <td>4245.806416</td>\n",
       "      <td>4281.0</td>\n",
       "      <td>-35.193584</td>\n",
       "      <td>-35.193584</td>\n",
       "    </tr>\n",
       "    <tr>\n",
       "      <th>24</th>\n",
       "      <td>2020-04-07</td>\n",
       "      <td>5032.671949</td>\n",
       "      <td>NaN</td>\n",
       "      <td>NaN</td>\n",
       "      <td>NaN</td>\n",
       "    </tr>\n",
       "    <tr>\n",
       "      <th>25</th>\n",
       "      <td>2020-04-08</td>\n",
       "      <td>5965.365460</td>\n",
       "      <td>NaN</td>\n",
       "      <td>NaN</td>\n",
       "      <td>NaN</td>\n",
       "    </tr>\n",
       "    <tr>\n",
       "      <th>26</th>\n",
       "      <td>2020-04-09</td>\n",
       "      <td>7070.912913</td>\n",
       "      <td>NaN</td>\n",
       "      <td>NaN</td>\n",
       "      <td>NaN</td>\n",
       "    </tr>\n",
       "    <tr>\n",
       "      <th>27</th>\n",
       "      <td>2020-04-10</td>\n",
       "      <td>8381.348932</td>\n",
       "      <td>NaN</td>\n",
       "      <td>NaN</td>\n",
       "      <td>NaN</td>\n",
       "    </tr>\n",
       "    <tr>\n",
       "      <th>28</th>\n",
       "      <td>2020-04-11</td>\n",
       "      <td>9934.645042</td>\n",
       "      <td>NaN</td>\n",
       "      <td>NaN</td>\n",
       "      <td>NaN</td>\n",
       "    </tr>\n",
       "    <tr>\n",
       "      <th>29</th>\n",
       "      <td>2020-04-12</td>\n",
       "      <td>11775.809947</td>\n",
       "      <td>NaN</td>\n",
       "      <td>NaN</td>\n",
       "      <td>NaN</td>\n",
       "    </tr>\n",
       "    <tr>\n",
       "      <th>30</th>\n",
       "      <td>2020-04-13</td>\n",
       "      <td>13958.193706</td>\n",
       "      <td>NaN</td>\n",
       "      <td>NaN</td>\n",
       "      <td>NaN</td>\n",
       "    </tr>\n",
       "    <tr>\n",
       "      <th>31</th>\n",
       "      <td>2020-04-14</td>\n",
       "      <td>16545.033625</td>\n",
       "      <td>NaN</td>\n",
       "      <td>NaN</td>\n",
       "      <td>NaN</td>\n",
       "    </tr>\n",
       "    <tr>\n",
       "      <th>32</th>\n",
       "      <td>2020-04-15</td>\n",
       "      <td>19611.286633</td>\n",
       "      <td>NaN</td>\n",
       "      <td>NaN</td>\n",
       "      <td>NaN</td>\n",
       "    </tr>\n",
       "    <tr>\n",
       "      <th>33</th>\n",
       "      <td>2020-04-16</td>\n",
       "      <td>23245.801256</td>\n",
       "      <td>NaN</td>\n",
       "      <td>NaN</td>\n",
       "      <td>NaN</td>\n",
       "    </tr>\n",
       "    <tr>\n",
       "      <th>34</th>\n",
       "      <td>2020-04-17</td>\n",
       "      <td>27553.892109</td>\n",
       "      <td>NaN</td>\n",
       "      <td>NaN</td>\n",
       "      <td>NaN</td>\n",
       "    </tr>\n",
       "    <tr>\n",
       "      <th>35</th>\n",
       "      <td>2020-04-18</td>\n",
       "      <td>32660.391527</td>\n",
       "      <td>NaN</td>\n",
       "      <td>NaN</td>\n",
       "      <td>NaN</td>\n",
       "    </tr>\n",
       "    <tr>\n",
       "      <th>36</th>\n",
       "      <td>2020-04-19</td>\n",
       "      <td>38713.266732</td>\n",
       "      <td>NaN</td>\n",
       "      <td>NaN</td>\n",
       "      <td>NaN</td>\n",
       "    </tr>\n",
       "    <tr>\n",
       "      <th>37</th>\n",
       "      <td>2020-04-20</td>\n",
       "      <td>45887.907368</td>\n",
       "      <td>NaN</td>\n",
       "      <td>NaN</td>\n",
       "      <td>NaN</td>\n",
       "    </tr>\n",
       "    <tr>\n",
       "      <th>38</th>\n",
       "      <td>2020-04-21</td>\n",
       "      <td>54392.207644</td>\n",
       "      <td>NaN</td>\n",
       "      <td>NaN</td>\n",
       "      <td>NaN</td>\n",
       "    </tr>\n",
       "    <tr>\n",
       "      <th>39</th>\n",
       "      <td>2020-04-22</td>\n",
       "      <td>64472.590321</td>\n",
       "      <td>NaN</td>\n",
       "      <td>NaN</td>\n",
       "      <td>NaN</td>\n",
       "    </tr>\n",
       "    <tr>\n",
       "      <th>40</th>\n",
       "      <td>2020-04-23</td>\n",
       "      <td>76421.147121</td>\n",
       "      <td>NaN</td>\n",
       "      <td>NaN</td>\n",
       "      <td>NaN</td>\n",
       "    </tr>\n",
       "    <tr>\n",
       "      <th>41</th>\n",
       "      <td>2020-04-24</td>\n",
       "      <td>90584.102458</td>\n",
       "      <td>NaN</td>\n",
       "      <td>NaN</td>\n",
       "      <td>NaN</td>\n",
       "    </tr>\n",
       "    <tr>\n",
       "      <th>42</th>\n",
       "      <td>2020-04-25</td>\n",
       "      <td>107371.845715</td>\n",
       "      <td>NaN</td>\n",
       "      <td>NaN</td>\n",
       "      <td>NaN</td>\n",
       "    </tr>\n",
       "    <tr>\n",
       "      <th>43</th>\n",
       "      <td>2020-04-26</td>\n",
       "      <td>127270.822799</td>\n",
       "      <td>NaN</td>\n",
       "      <td>NaN</td>\n",
       "      <td>NaN</td>\n",
       "    </tr>\n",
       "    <tr>\n",
       "      <th>44</th>\n",
       "      <td>2020-04-27</td>\n",
       "      <td>150857.631515</td>\n",
       "      <td>NaN</td>\n",
       "      <td>NaN</td>\n",
       "      <td>NaN</td>\n",
       "    </tr>\n",
       "    <tr>\n",
       "      <th>45</th>\n",
       "      <td>2020-04-28</td>\n",
       "      <td>178815.729212</td>\n",
       "      <td>NaN</td>\n",
       "      <td>NaN</td>\n",
       "      <td>NaN</td>\n",
       "    </tr>\n",
       "    <tr>\n",
       "      <th>46</th>\n",
       "      <td>2020-04-29</td>\n",
       "      <td>211955.236818</td>\n",
       "      <td>NaN</td>\n",
       "      <td>NaN</td>\n",
       "      <td>NaN</td>\n",
       "    </tr>\n",
       "    <tr>\n",
       "      <th>47</th>\n",
       "      <td>2020-04-30</td>\n",
       "      <td>251236.413109</td>\n",
       "      <td>NaN</td>\n",
       "      <td>NaN</td>\n",
       "      <td>NaN</td>\n",
       "    </tr>\n",
       "  </tbody>\n",
       "</table>\n",
       "</div>"
      ],
      "text/plain": [
       "         Date   Extrapolated  Actual  Predicted Minus Actual  \\\n",
       "18 2020-04-01    1814.546171  1834.0              -19.453829   \n",
       "19 2020-04-02    2150.831837  2069.0               81.831837   \n",
       "20 2020-04-03    2549.440552  2547.0                2.440552   \n",
       "21 2020-04-04    3021.922503  3072.0              -50.077497   \n",
       "22 2020-04-05    3581.968447  3577.0                4.968447   \n",
       "23 2020-04-06    4245.806416  4281.0              -35.193584   \n",
       "24 2020-04-07    5032.671949     NaN                     NaN   \n",
       "25 2020-04-08    5965.365460     NaN                     NaN   \n",
       "26 2020-04-09    7070.912913     NaN                     NaN   \n",
       "27 2020-04-10    8381.348932     NaN                     NaN   \n",
       "28 2020-04-11    9934.645042     NaN                     NaN   \n",
       "29 2020-04-12   11775.809947     NaN                     NaN   \n",
       "30 2020-04-13   13958.193706     NaN                     NaN   \n",
       "31 2020-04-14   16545.033625     NaN                     NaN   \n",
       "32 2020-04-15   19611.286633     NaN                     NaN   \n",
       "33 2020-04-16   23245.801256     NaN                     NaN   \n",
       "34 2020-04-17   27553.892109     NaN                     NaN   \n",
       "35 2020-04-18   32660.391527     NaN                     NaN   \n",
       "36 2020-04-19   38713.266732     NaN                     NaN   \n",
       "37 2020-04-20   45887.907368     NaN                     NaN   \n",
       "38 2020-04-21   54392.207644     NaN                     NaN   \n",
       "39 2020-04-22   64472.590321     NaN                     NaN   \n",
       "40 2020-04-23   76421.147121     NaN                     NaN   \n",
       "41 2020-04-24   90584.102458     NaN                     NaN   \n",
       "42 2020-04-25  107371.845715     NaN                     NaN   \n",
       "43 2020-04-26  127270.822799     NaN                     NaN   \n",
       "44 2020-04-27  150857.631515     NaN                     NaN   \n",
       "45 2020-04-28  178815.729212     NaN                     NaN   \n",
       "46 2020-04-29  211955.236818     NaN                     NaN   \n",
       "47 2020-04-30  251236.413109     NaN                     NaN   \n",
       "\n",
       "    Extrapolated Minus Actual  \n",
       "18                 -19.453829  \n",
       "19                  81.831837  \n",
       "20                   2.440552  \n",
       "21                 -50.077497  \n",
       "22                   4.968447  \n",
       "23                 -35.193584  \n",
       "24                        NaN  \n",
       "25                        NaN  \n",
       "26                        NaN  \n",
       "27                        NaN  \n",
       "28                        NaN  \n",
       "29                        NaN  \n",
       "30                        NaN  \n",
       "31                        NaN  \n",
       "32                        NaN  \n",
       "33                        NaN  \n",
       "34                        NaN  \n",
       "35                        NaN  \n",
       "36                        NaN  \n",
       "37                        NaN  \n",
       "38                        NaN  \n",
       "39                        NaN  \n",
       "40                        NaN  \n",
       "41                        NaN  \n",
       "42                        NaN  \n",
       "43                        NaN  \n",
       "44                        NaN  \n",
       "45                        NaN  \n",
       "46                        NaN  \n",
       "47                        NaN  "
      ]
     },
     "execution_count": 81,
     "metadata": {},
     "output_type": "execute_result"
    }
   ],
   "source": [
    "df_extrapolated['Actual'] = df_real['Commulative Total Count of Confirmed Cases In India'] \n",
    "df_extrapolated['Extrapolated Minus Actual'] = df_extrapolated['Extrapolated'] - df_extrapolated['Actual']\n",
    "df_extrapolated.tail(30)"
   ]
  },
  {
   "cell_type": "code",
   "execution_count": null,
   "metadata": {},
   "outputs": [],
   "source": []
  }
 ],
 "metadata": {
  "kernelspec": {
   "display_name": "TensorFlow-GPU",
   "language": "python",
   "name": "tf-gpu"
  },
  "language_info": {
   "codemirror_mode": {
    "name": "ipython",
    "version": 3
   },
   "file_extension": ".py",
   "mimetype": "text/x-python",
   "name": "python",
   "nbconvert_exporter": "python",
   "pygments_lexer": "ipython3",
   "version": "3.7.6"
  }
 },
 "nbformat": 4,
 "nbformat_minor": 2
}
