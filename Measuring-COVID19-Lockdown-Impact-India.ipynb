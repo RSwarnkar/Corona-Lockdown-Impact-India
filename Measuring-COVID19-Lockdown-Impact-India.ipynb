{
 "cells": [
  {
   "cell_type": "markdown",
   "metadata": {},
   "source": [
    "# Measuring #21DayLockdown Impact on COVID-19 pandemic spread in India\n",
    "\n",
    "## A Exponential Mathematical Model for Corona Virus spread using Scipy Curve Fitting\n",
    "\n",
    "On 22nd March, 2020, India observed a 14-Hour lockdown against Corona virus pandemic when Prime minister of India called out for a public #Lockdown and curfew. \n",
    "This was one of the longest country-wide lock and curfew in India with good response. Next few days were critical for virus spread. (Markets were crashing worst of all time.)\n",
    "\n",
    "\n",
    "### Flattening the Curve:  #21DaysLockdown:\n",
    "\n",
    "On Night of 23rd March, PM of Government of India announced 100% #21DaysLockdown and extending the Section144 Curfew against the Corona (COVID19) pandemic starting from 24th March, 2020 till 14th April, 2020.\n",
    "\n",
    "This was the first of its kind of lockdown at such massive scale. \n",
    "This triggered a country-wide lockdown of about 100 Crore+ people in their homes in intent to `flatten the curve` of the pandemic.\n",
    "\n",
    "On 24th of March, nearly 170 Crore people across the World were already in locked-down state in their homes due to the sever spread of the pandemic, killing more than 18,000 people across globe.\n",
    "\n",
    "### Measuring Impact:\n",
    "\n",
    "This Jupyter is hypothetical modeling of the corona virus spread by counting the number of cases reported each day (cumulative), in order to check the impact of the #21DaysLockdown by extending (extrapolating) 21 days further from 23rd March and compare with actual reported case.\n",
    "\n",
    "If a flattening curve appreas against the extrpolated curve, then this 'may' suggest the pandemic is in control in India. And #21DaysLockdown had good impact. "
   ]
  },
  {
   "cell_type": "markdown",
   "metadata": {},
   "source": [
    "## Loading & Exploring Data\n",
    "\n",
    "* Source of the data: [wikipedia](https://en.wikipedia.org/wiki/Timeline_of_the_2020_coronavirus_pandemic_in_India#January)\n",
    "    "
   ]
  },
  {
   "cell_type": "code",
   "execution_count": 1,
   "metadata": {},
   "outputs": [],
   "source": [
    "import numpy as np\n",
    "import pandas as pd\n",
    "import plotly.graph_objs as go \n",
    "import plotly.offline as pyo\n",
    "import matplotlib\n",
    "%matplotlib inline"
   ]
  },
  {
   "cell_type": "code",
   "execution_count": 2,
   "metadata": {},
   "outputs": [],
   "source": [
    "df = pd.read_csv(\"data/covid19-total-cases-india.csv\", parse_dates=['Date'])"
   ]
  },
  {
   "cell_type": "code",
   "execution_count": 3,
   "metadata": {},
   "outputs": [
    {
     "data": {
      "text/html": [
       "<div>\n",
       "<style scoped>\n",
       "    .dataframe tbody tr th:only-of-type {\n",
       "        vertical-align: middle;\n",
       "    }\n",
       "\n",
       "    .dataframe tbody tr th {\n",
       "        vertical-align: top;\n",
       "    }\n",
       "\n",
       "    .dataframe thead th {\n",
       "        text-align: right;\n",
       "    }\n",
       "</style>\n",
       "<table border=\"1\" class=\"dataframe\">\n",
       "  <thead>\n",
       "    <tr style=\"text-align: right;\">\n",
       "      <th></th>\n",
       "      <th>Date</th>\n",
       "      <th>Commulative Total Count of Confirmed Cases In India</th>\n",
       "    </tr>\n",
       "  </thead>\n",
       "  <tbody>\n",
       "    <tr>\n",
       "      <th>0</th>\n",
       "      <td>2020-01-30</td>\n",
       "      <td>1.0</td>\n",
       "    </tr>\n",
       "    <tr>\n",
       "      <th>1</th>\n",
       "      <td>2020-01-31</td>\n",
       "      <td>1.0</td>\n",
       "    </tr>\n",
       "    <tr>\n",
       "      <th>2</th>\n",
       "      <td>2020-02-01</td>\n",
       "      <td>1.0</td>\n",
       "    </tr>\n",
       "    <tr>\n",
       "      <th>3</th>\n",
       "      <td>2020-02-02</td>\n",
       "      <td>2.0</td>\n",
       "    </tr>\n",
       "    <tr>\n",
       "      <th>4</th>\n",
       "      <td>2020-02-03</td>\n",
       "      <td>3.0</td>\n",
       "    </tr>\n",
       "  </tbody>\n",
       "</table>\n",
       "</div>"
      ],
      "text/plain": [
       "        Date  Commulative Total Count of Confirmed Cases In India\n",
       "0 2020-01-30                                                1.0  \n",
       "1 2020-01-31                                                1.0  \n",
       "2 2020-02-01                                                1.0  \n",
       "3 2020-02-02                                                2.0  \n",
       "4 2020-02-03                                                3.0  "
      ]
     },
     "execution_count": 3,
     "metadata": {},
     "output_type": "execute_result"
    }
   ],
   "source": [
    "df.head()"
   ]
  },
  {
   "cell_type": "code",
   "execution_count": 4,
   "metadata": {},
   "outputs": [
    {
     "name": "stdout",
     "output_type": "stream",
     "text": [
      "<class 'pandas.core.frame.DataFrame'>\n",
      "RangeIndex: 93 entries, 0 to 92\n",
      "Data columns (total 2 columns):\n",
      "Date                                                   93 non-null datetime64[ns]\n",
      "Commulative Total Count of Confirmed Cases In India    57 non-null float64\n",
      "dtypes: datetime64[ns](1), float64(1)\n",
      "memory usage: 1.6 KB\n"
     ]
    }
   ],
   "source": [
    "df.info()"
   ]
  },
  {
   "cell_type": "code",
   "execution_count": 5,
   "metadata": {},
   "outputs": [
    {
     "data": {
      "text/plain": [
       "<matplotlib.axes._subplots.AxesSubplot at 0x21164670088>"
      ]
     },
     "execution_count": 5,
     "metadata": {},
     "output_type": "execute_result"
    },
    {
     "data": {
      "image/png": "[encoded data removed]",
      "text/plain": [
       "<Figure size 432x288 with 1 Axes>"
      ]
     },
     "metadata": {
      "needs_background": "light"
     },
     "output_type": "display_data"
    }
   ],
   "source": [
    "# Basic Plot\n",
    "df['Commulative Total Count of Confirmed Cases In India'].plot()"
   ]
  },
  {
   "cell_type": "markdown",
   "metadata": {},
   "source": [
    "### Plotly Interactive Chart"
   ]
  },
  {
   "cell_type": "code",
   "execution_count": 6,
   "metadata": {},
   "outputs": [
    {
     "data": {
      "text/plain": [
       "'InteractiveCharts/Real-Cases-Count-Chart.html'"
      ]
     },
     "execution_count": 6,
     "metadata": {},
     "output_type": "execute_result"
    }
   ],
   "source": [
    "# Plotly Interactive Chart\n",
    "\n",
    "trace1 = go.Scatter(x=df['Date'],\n",
    "                    y=df['Commulative Total Count of Confirmed Cases In India'],\n",
    "                    name=\"Commulative Total Count of Confirmed Cases In India\",\n",
    "                    mode='lines+markers')\n",
    "\n",
    "data = [trace1]\n",
    "\n",
    "layout = go.Layout(title='COVID-19 in India: Commulative Total Count of Confirmed Cases', \n",
    "                   xaxis_title=\"Date\",\n",
    "                   yaxis_title=\"# Cases\",\n",
    "                   font=dict(\n",
    "                       family=\"Courier New, monospace\",\n",
    "                       size=14,\n",
    "                       color=\"#000\")\n",
    "                   )\n",
    "\n",
    "\n",
    "fig = go.Figure(data=data,layout=layout)\n",
    "\n",
    "pyo.plot(fig,filename=\"InteractiveCharts/Real-Cases-Count-Chart.html\")"
   ]
  },
  {
   "cell_type": "markdown",
   "metadata": {},
   "source": [
    "## Analyzing the Order of the Curve\n",
    "When curve is diffrentiated multiple times, after some differenece the series will turn stationary.\n",
    "\n",
    "Stationarity can be checked using Augmented Dickey Fuller Test:\n",
    "\n",
    "* `p-value > 0.05`: Fail to reject the null hypothesis (H0), the data has a unit root and is non-stationary.\n",
    "* `p-value <= 0.05` : Reject the null hypothesis (H0), the data does not have a unit root and is stationary.\n",
    "\n",
    "Reference: \n",
    "* [machinelearningmastery](https://machinelearningmastery.com/time-series-data-stationary-python/)"
   ]
  },
  {
   "cell_type": "code",
   "execution_count": 7,
   "metadata": {},
   "outputs": [
    {
     "data": {
      "text/plain": [
       "<matplotlib.axes._subplots.AxesSubplot at 0x21165d9f088>"
      ]
     },
     "execution_count": 7,
     "metadata": {},
     "output_type": "execute_result"
    },
    {
     "data": {
      "image/png": "[encoded data removed]",
      "text/plain": [
       "<Figure size 432x288 with 1 Axes>"
      ]
     },
     "metadata": {
      "needs_background": "light"
     },
     "output_type": "display_data"
    }
   ],
   "source": [
    "df['Commulative Total Count of Confirmed Cases In India'].diff().diff().plot()"
   ]
  },
  {
   "cell_type": "code",
   "execution_count": 8,
   "metadata": {},
   "outputs": [
    {
     "name": "stdout",
     "output_type": "stream",
     "text": [
      "ADF Statistic: -3.804869\n",
      "p-value: 0.002858\n",
      "Critical Values:\n",
      "\t1%: -3.597\n",
      "\t5%: -2.933\n",
      "\t10%: -2.605\n",
      "p-value <= 0.05: Reject the null hypothesis (H0), the data does not have a unit root and is stationary\n"
     ]
    }
   ],
   "source": [
    "from statsmodels.tsa.stattools import adfuller\n",
    "\n",
    "# Differntiantion multiple times to make the data stationary\n",
    "# to confirm data stationarity we use the Augmented Dickey Fuller Test \n",
    "\n",
    "X = df['Commulative Total Count of Confirmed Cases In India'].diff().diff().diff().dropna().values\n",
    "\n",
    "result = adfuller(X)\n",
    "print('ADF Statistic: %f' % result[0])\n",
    "print('p-value: %f' % result[1])\n",
    "print('Critical Values:')\n",
    "for key, value in result[4].items():\n",
    "    print('\\t%s: %.3f' % (key, value))\n",
    "\n",
    "if(result[1]>0.05):\n",
    "    print('p-value > 0.05: Fail to reject the null hypothesis (H0), the data has a unit root and is non-stationary');\n",
    "\n",
    "if(result[1]<=0.05):\n",
    "    print('p-value <= 0.05: Reject the null hypothesis (H0), the data does not have a unit root and is stationary');\n"
   ]
  },
  {
   "cell_type": "markdown",
   "metadata": {},
   "source": [
    "#### Order of the curve is 3\n",
    "* Hence, need to apply, cubic and exponential curve fitting and check which fits the best "
   ]
  },
  {
   "cell_type": "code",
   "execution_count": 9,
   "metadata": {},
   "outputs": [],
   "source": [
    "import matplotlib.pyplot as plt\n",
    "from scipy.optimize import curve_fit as cvfit"
   ]
  },
  {
   "cell_type": "code",
   "execution_count": 10,
   "metadata": {},
   "outputs": [
    {
     "data": {
      "text/plain": [
       "array([ 0,  1,  2,  3,  4,  5,  6,  7,  8,  9, 10, 11, 12, 13, 14, 15, 16,\n",
       "       17, 18, 19, 20, 21, 22, 23, 24, 25, 26, 27, 28, 29, 30, 31, 32, 33,\n",
       "       34, 35, 36, 37, 38, 39, 40, 41, 42, 43, 44, 45, 46, 47, 48, 49, 50,\n",
       "       51, 52, 53, 54, 55, 56], dtype=int64)"
      ]
     },
     "execution_count": 10,
     "metadata": {},
     "output_type": "execute_result"
    }
   ],
   "source": [
    "# Drop Null values because Scipy will not accept the null values.\n",
    "x_data = df['Commulative Total Count of Confirmed Cases In India'].dropna().index.values \n",
    "x_data"
   ]
  },
  {
   "cell_type": "code",
   "execution_count": 11,
   "metadata": {},
   "outputs": [
    {
     "data": {
      "text/plain": [
       "array([  1.,   1.,   1.,   2.,   3.,   3.,   3.,   3.,   3.,   3.,   3.,\n",
       "         3.,   3.,   3.,   3.,   3.,   3.,   3.,   3.,   3.,   3.,   3.,\n",
       "         3.,   3.,   3.,   3.,   3.,   3.,   3.,   3.,   3.,   3.,   3.,\n",
       "         6.,   9.,  32.,  33.,  34.,  37.,  43.,  50.,  65.,  65.,  77.,\n",
       "        85., 100., 110., 114., 140., 170., 198., 249., 329., 391., 468.,\n",
       "       519., 562.])"
      ]
     },
     "execution_count": 11,
     "metadata": {},
     "output_type": "execute_result"
    }
   ],
   "source": [
    "y_data = df['Commulative Total Count of Confirmed Cases In India'].dropna().values\n",
    "y_data"
   ]
  },
  {
   "cell_type": "code",
   "execution_count": 12,
   "metadata": {},
   "outputs": [],
   "source": [
    "# Prepare fit function\n",
    "def exponential_1(x, a, b, c):\n",
    "    return a * np.exp(b * x) + c\n",
    "\n",
    "def exponential_2(x, a, b):\n",
    "    return a * np.exp(b * x)\n",
    "\n",
    "def exponential_3(x, a, b): # Warning: Divide by zero\n",
    "    return a*np.exp(x/b)\n",
    "\n",
    "# y = a(1 + r)^b : https://mathbitsnotebook.com/Algebra2/Exponential/EXGrowthDecay.html\n",
    "# r is the rate of growth\n",
    "def exponential_4(x, a, r):\n",
    "    return a * np.power(1+r,x)\n",
    "\n",
    "def cubic_1(x, a):\n",
    "    return a * np.power(x,3)\n"
   ]
  },
  {
   "cell_type": "code",
   "execution_count": 13,
   "metadata": {},
   "outputs": [
    {
     "name": "stdout",
     "output_type": "stream",
     "text": [
      "Exponential 1 Fit Parameters and Cov:\n",
      "[-3.06758352e-15  9.99999997e-01  5.83192308e+00]\n",
      "[[ 3.00229287e-27  3.48228903e-21 -4.53335206e-13]\n",
      " [ 3.48228903e-21  4.03925975e-15 -5.25756032e-07]\n",
      " [-4.53335206e-13 -5.25756032e-07  2.33920574e+16]]\n",
      "\n",
      "\n",
      "Exponential 2 Fit Parameters and Cov:\n",
      "[0.05895335 0.16472439]\n",
      "[[ 1.11265357e-04 -3.52065365e-05]\n",
      " [-3.52065365e-05  1.11756574e-05]]\n",
      "\n",
      "\n",
      "Exponential 3 Fit Parameters and Cov:\n",
      "[-2.83427446e-15  1.00000000e+00]\n",
      "[[ 2.51637660e-27 -2.91868479e-21]\n",
      " [-2.91868479e-21  3.38550891e-15]]\n",
      "\n",
      "\n",
      "Cubit Fit Parameters:\n",
      "0.013502071204040908\n",
      "-0.8163516038796728\n",
      "13.053325225121236\n",
      "-38.105365693602735\n"
     ]
    }
   ],
   "source": [
    "# Fit exponential_1\n",
    "param_exponential_1, param_cov_exponential_1 = cvfit(exponential_1, x_data, y_data) \n",
    "\n",
    "# Fit exponential_2\n",
    "param_exponential_2, param_cov_exponential_2 = cvfit(exponential_2, x_data, y_data) \n",
    "\n",
    "# Fit exponential_3\n",
    "param_exponential_3, param_cov_exponential_3 = cvfit(exponential_3, x_data, y_data) \n",
    "\n",
    "def exponential_3(x, a, b):\n",
    "    return a*np.exp(x/b)\n",
    "\n",
    "\n",
    "print(\"Exponential 1 Fit Parameters and Cov:\")\n",
    "print(param_exponential_1)\n",
    "print(param_cov_exponential_1)\n",
    "\n",
    "print(\"\\n\")\n",
    "\n",
    "print(\"Exponential 2 Fit Parameters and Cov:\")\n",
    "print(param_exponential_2)\n",
    "print(param_cov_exponential_2)\n",
    "\n",
    "\n",
    "print(\"\\n\")\n",
    "\n",
    "print(\"Exponential 3 Fit Parameters and Cov:\")\n",
    "print(param_exponential_3)\n",
    "print(param_cov_exponential_3)\n",
    "\n",
    "print(\"\\n\")\n",
    "\n",
    "# model for cubic_1\n",
    "# f(x) = a.x^3 + b.x^2 + c.x + d\n",
    "cubic_fit = np.polyfit(x_data, y_data, 3)\n",
    "\n",
    "print(\"Cubit Fit Parameters:\")\n",
    "for i in cubic_fit:\n",
    "    print(i)"
   ]
  },
  {
   "cell_type": "code",
   "execution_count": 14,
   "metadata": {},
   "outputs": [],
   "source": [
    "# model for exponential_1\n",
    "exp_fit1 = param_exponential_1[0] * np.exp(param_exponential_1[1]*x_data) + param_exponential_1[2]\n",
    "\n",
    "# model for exponential_2\n",
    "exp_fit2 = param_exponential_2[0] * np.exp(param_exponential_2[1]*x_data)\n",
    "\n",
    "# model for exponential_3 \n",
    "exp_fit3 = param_exponential_3[0] * np.exp(x_data/param_exponential_3[1])  # Divide by zero\n",
    "\n",
    "# model for cubic_1\n",
    "# f(x) = a.x^3 + b.x^2 + c.x + d\n",
    "cubic_fit1 = cubic_fit[0] * np.power(x_data,3) + \\\n",
    "              cubic_fit[1] * np.power(x_data,2) + \\\n",
    "               cubic_fit[2] * x_data + \\\n",
    "                cubic_fit[3]\n"
   ]
  },
  {
   "cell_type": "code",
   "execution_count": 15,
   "metadata": {},
   "outputs": [
    {
     "data": {
      "image/png": "[encoded data removed]",
      "text/plain": [
       "<Figure size 432x288 with 1 Axes>"
      ]
     },
     "metadata": {
      "needs_background": "light"
     },
     "output_type": "display_data"
    }
   ],
   "source": [
    "plt.plot(x_data, y_data, 'o', color ='red', label =\"Corona-Actual\") \n",
    "\n",
    "# plt.plot(x_data, exp_fit1, '--', color ='green', label =\"Exponential 1 fit\") # Bad Fit\n",
    "\n",
    "plt.plot(x_data, exp_fit2, '--', color ='blue', label =\"Exponential 2 fit\") # Best fit\n",
    "\n",
    "# plt.plot(x_data, exp_fit3, color ='goldenrod', label =\"Exponential 3 fit\") # very very bad fit\n",
    "\n",
    "plt.plot(x_data, cubic_fit1, '.', color ='tan', label =\"Cubic fit\") # Not so good fit\n",
    "\n",
    "plt.legend() \n",
    "plt.show() "
   ]
  },
  {
   "cell_type": "markdown",
   "metadata": {},
   "source": [
    "## Parameters of best fit exponential curve fitting is : \n",
    "\n",
    "#### Conclusion 1: Exponential Curve fits best with the current  available dataset. \n",
    "\n",
    "Mathemathetical Model for Corona Spread in india is:  \n",
    "\n",
    "\\begin{equation} N(day_n)  = 0.05895335 * e^{day_n*0.16472439} \\end{equation}"
   ]
  },
  {
   "cell_type": "code",
   "execution_count": 16,
   "metadata": {},
   "outputs": [
    {
     "data": {
      "text/plain": [
       "'InteractiveCharts/Comparing-Curve-Fittings.html'"
      ]
     },
     "execution_count": 16,
     "metadata": {},
     "output_type": "execute_result"
    }
   ],
   "source": [
    "trace1 = go.Scatter(x=df['Date'],\n",
    "                    y=df['Commulative Total Count of Confirmed Cases In India'],\n",
    "                    name=\"Actual Data\",\n",
    "                    mode='lines+markers')\n",
    "\n",
    "trace2 =  go.Scatter(x=df['Date'],\n",
    "                    y=exp_fit2,\n",
    "                    name=\"Exponential Fit\",\n",
    "                    mode='lines+markers')\n",
    "trace3 =  go.Scatter(x=df['Date'],\n",
    "                    y=cubic_fit1,\n",
    "                    name=\"Cubit Fit\",\n",
    "                    mode='lines+markers')\n",
    "\n",
    "data = [trace1, trace2, trace3]\n",
    "\n",
    "layout = go.Layout(title='COVID-19: Commulative Total Count of Confirmed Cases In India : Exponential and Cubit Fit')\n",
    "\n",
    "fig = go.Figure(data=data,layout=layout)\n",
    "\n",
    "pyo.plot(fig,filename=\"InteractiveCharts/Comparing-Curve-Fittings.html\")"
   ]
  },
  {
   "cell_type": "markdown",
   "metadata": {},
   "source": [
    "# Model Prediction in Future\n",
    "This is hypothetical prediction, if the situation does remains same, then the spread will fit approximately as per the model. \n",
    "\n",
    "However, due to multiple (known/unknown) factors such as lockdown, awareness in people, increase in temperature etc. the model may over predict. Or may under-predict if the situations get out of hand.   \n",
    "\n",
    "\n",
    "#### Extrapolating the model outcome \n",
    "Extrapolating the model outcome into Next <del>21 Days</del> 30 days i.e. 24th March to 30 April, 2020\n",
    "\n"
   ]
  },
  {
   "cell_type": "code",
   "execution_count": 17,
   "metadata": {},
   "outputs": [
    {
     "data": {
      "text/plain": [
       "array([ 0,  1,  2,  3,  4,  5,  6,  7,  8,  9, 10, 11, 12, 13, 14, 15, 16,\n",
       "       17, 18, 19, 20, 21, 22, 23, 24, 25, 26, 27, 28, 29, 30, 31, 32, 33,\n",
       "       34, 35, 36, 37, 38, 39, 40, 41, 42, 43, 44, 45, 46, 47, 48, 49, 50,\n",
       "       51, 52, 53, 54, 55, 56, 57, 58, 59, 60, 61, 62, 63, 64, 65, 66, 67,\n",
       "       68, 69, 70, 71, 72, 73, 74, 75, 76, 77, 78, 79, 80, 81, 82, 83, 84,\n",
       "       85, 86, 87, 88, 89, 90, 91, 92], dtype=int64)"
      ]
     },
     "execution_count": 17,
     "metadata": {},
     "output_type": "execute_result"
    }
   ],
   "source": [
    "len(df.index.values)\n",
    "df.index.values"
   ]
  },
  {
   "cell_type": "code",
   "execution_count": 18,
   "metadata": {},
   "outputs": [
    {
     "data": {
      "text/plain": [
       "array([ 0,  1,  2,  3,  4,  5,  6,  7,  8,  9, 10, 11, 12, 13, 14, 15, 16,\n",
       "       17, 18, 19, 20, 21, 22, 23, 24, 25, 26, 27, 28, 29, 30, 31, 32, 33,\n",
       "       34, 35, 36, 37, 38, 39, 40, 41, 42, 43, 44, 45, 46, 47, 48, 49, 50,\n",
       "       51, 52, 53, 54, 55, 56, 57, 58, 59, 60, 61, 62, 63, 64, 65, 66, 67,\n",
       "       68, 69, 70, 71, 72, 73, 74, 75, 76, 77, 78, 79, 80, 81, 82, 83, 84,\n",
       "       85, 86, 87, 88, 89, 90, 91, 92], dtype=int64)"
      ]
     },
     "execution_count": 18,
     "metadata": {},
     "output_type": "execute_result"
    }
   ],
   "source": [
    "x_hypo = df.index.values\n",
    "x_hypo"
   ]
  },
  {
   "cell_type": "code",
   "execution_count": 19,
   "metadata": {},
   "outputs": [],
   "source": [
    "y_hypo = param_exponential_2[0] * np.exp(param_exponential_2[1] * x_hypo)\n"
   ]
  },
  {
   "cell_type": "code",
   "execution_count": 20,
   "metadata": {},
   "outputs": [],
   "source": [
    "# Co-efficient Store:\n",
    "# a * np.exp(b * x)\n",
    "# (a,b) = (0.05895335,0.16472439)"
   ]
  },
  {
   "cell_type": "markdown",
   "metadata": {},
   "source": [
    "# Comparing Trends\n",
    "#### Comparing the exponential model trend vs the actual curve trend "
   ]
  },
  {
   "cell_type": "code",
   "execution_count": 21,
   "metadata": {},
   "outputs": [
    {
     "data": {
      "image/png": "[encoded data removed]",
      "text/plain": [
       "<Figure size 432x288 with 1 Axes>"
      ]
     },
     "metadata": {
      "needs_background": "light"
     },
     "output_type": "display_data"
    }
   ],
   "source": [
    "plt.plot(x_data, y_data, 'o', color ='red', label =\"Corona-Actual\") \n",
    "plt.plot(x_hypo, y_hypo, '--', color ='blue', label =\"Extrapolated\") \n",
    "plt.legend() \n",
    "plt.show() "
   ]
  },
  {
   "cell_type": "markdown",
   "metadata": {},
   "source": [
    "## Result: Plotly Interactive Chart "
   ]
  },
  {
   "cell_type": "code",
   "execution_count": 22,
   "metadata": {},
   "outputs": [
    {
     "data": {
      "text/plain": [
       "'InteractiveCharts/COVID19-Cases-India-Compared01.html'"
      ]
     },
     "execution_count": 22,
     "metadata": {},
     "output_type": "execute_result"
    }
   ],
   "source": [
    "\n",
    "trace_2 = go.Scatter(x=df['Date'],\n",
    "                     y=y_hypo, \n",
    "                     name=\"Modeled\", mode='lines+markers', line = dict(color='plum'))\n",
    "\n",
    "trace_1 = go.Scatter(x=df['Date'],\n",
    "                     y=df['Commulative Total Count of Confirmed Cases In India'],\n",
    "                     name=\"Actual\", line = dict(color='red', width=4, dash='solid') )\n",
    "\n",
    "\n",
    "data = [trace_2, trace_1]\n",
    "\n",
    "layout = go.Layout(title='Measuring Impact of #21DayLockdown on COVID-19 pandemic spread in India',\n",
    "                   xaxis_title='Daily count of COVID-19 Spread in India',\n",
    "                   yaxis_title='# of Cases')\n",
    "\n",
    "fig = go.Figure(data=data, layout=layout)\n",
    "pyo.plot(fig, filename=\"InteractiveCharts/COVID19-Cases-India-Compared01.html\")\n",
    "\n",
    "\n",
    "\n"
   ]
  },
  {
   "cell_type": "markdown",
   "metadata": {},
   "source": [
    "### Store Extrapolated Data in a File"
   ]
  },
  {
   "cell_type": "code",
   "execution_count": 23,
   "metadata": {},
   "outputs": [
    {
     "data": {
      "text/html": [
       "<div>\n",
       "<style scoped>\n",
       "    .dataframe tbody tr th:only-of-type {\n",
       "        vertical-align: middle;\n",
       "    }\n",
       "\n",
       "    .dataframe tbody tr th {\n",
       "        vertical-align: top;\n",
       "    }\n",
       "\n",
       "    .dataframe thead th {\n",
       "        text-align: right;\n",
       "    }\n",
       "</style>\n",
       "<table border=\"1\" class=\"dataframe\">\n",
       "  <thead>\n",
       "    <tr style=\"text-align: right;\">\n",
       "      <th></th>\n",
       "      <th>Date</th>\n",
       "      <th>Extrapolated</th>\n",
       "    </tr>\n",
       "  </thead>\n",
       "  <tbody>\n",
       "    <tr>\n",
       "      <th>88</th>\n",
       "      <td>2020-04-26</td>\n",
       "      <td>116394.180856</td>\n",
       "    </tr>\n",
       "    <tr>\n",
       "      <th>89</th>\n",
       "      <td>2020-04-27</td>\n",
       "      <td>137236.667353</td>\n",
       "    </tr>\n",
       "    <tr>\n",
       "      <th>90</th>\n",
       "      <td>2020-04-28</td>\n",
       "      <td>161811.378607</td>\n",
       "    </tr>\n",
       "    <tr>\n",
       "      <th>91</th>\n",
       "      <td>2020-04-29</td>\n",
       "      <td>190786.637068</td>\n",
       "    </tr>\n",
       "    <tr>\n",
       "      <th>92</th>\n",
       "      <td>2020-04-30</td>\n",
       "      <td>224950.440427</td>\n",
       "    </tr>\n",
       "  </tbody>\n",
       "</table>\n",
       "</div>"
      ],
      "text/plain": [
       "         Date   Extrapolated\n",
       "88 2020-04-26  116394.180856\n",
       "89 2020-04-27  137236.667353\n",
       "90 2020-04-28  161811.378607\n",
       "91 2020-04-29  190786.637068\n",
       "92 2020-04-30  224950.440427"
      ]
     },
     "execution_count": 23,
     "metadata": {},
     "output_type": "execute_result"
    }
   ],
   "source": [
    "df_out = pd.DataFrame({'Date': list(df['Date'].values), 'Extrapolated': list(y_hypo)}, columns=['Date', 'Extrapolated'])\n",
    "df_out.tail()"
   ]
  },
  {
   "cell_type": "code",
   "execution_count": 24,
   "metadata": {},
   "outputs": [],
   "source": [
    "df_out.to_csv('data/covid19-extrapolated-cases-india.csv', index=False)"
   ]
  },
  {
   "cell_type": "markdown",
   "metadata": {},
   "source": [
    "# Comparing Predictions\n",
    "### Exponential model vs the actual trend\n",
    "\n",
    "Let's compare the actual cases each day reported, everyday till 30th April and see how things progress. "
   ]
  },
  {
   "cell_type": "code",
   "execution_count": 25,
   "metadata": {},
   "outputs": [],
   "source": [
    "df_extrapolated = pd.read_csv('data/covid19-extrapolated-cases-india.csv', parse_dates=['Date'])\n",
    "df_real         = pd.read_csv('data/covid19-total-cases-india-updated-daily.csv', parse_dates=['Date'])"
   ]
  },
  {
   "cell_type": "code",
   "execution_count": 26,
   "metadata": {},
   "outputs": [
    {
     "data": {
      "text/html": [
       "<div>\n",
       "<style scoped>\n",
       "    .dataframe tbody tr th:only-of-type {\n",
       "        vertical-align: middle;\n",
       "    }\n",
       "\n",
       "    .dataframe tbody tr th {\n",
       "        vertical-align: top;\n",
       "    }\n",
       "\n",
       "    .dataframe thead th {\n",
       "        text-align: right;\n",
       "    }\n",
       "</style>\n",
       "<table border=\"1\" class=\"dataframe\">\n",
       "  <thead>\n",
       "    <tr style=\"text-align: right;\">\n",
       "      <th></th>\n",
       "      <th>Date</th>\n",
       "      <th>Extrapolated</th>\n",
       "    </tr>\n",
       "  </thead>\n",
       "  <tbody>\n",
       "    <tr>\n",
       "      <th>88</th>\n",
       "      <td>2020-04-26</td>\n",
       "      <td>116394.180856</td>\n",
       "    </tr>\n",
       "    <tr>\n",
       "      <th>89</th>\n",
       "      <td>2020-04-27</td>\n",
       "      <td>137236.667353</td>\n",
       "    </tr>\n",
       "    <tr>\n",
       "      <th>90</th>\n",
       "      <td>2020-04-28</td>\n",
       "      <td>161811.378607</td>\n",
       "    </tr>\n",
       "    <tr>\n",
       "      <th>91</th>\n",
       "      <td>2020-04-29</td>\n",
       "      <td>190786.637068</td>\n",
       "    </tr>\n",
       "    <tr>\n",
       "      <th>92</th>\n",
       "      <td>2020-04-30</td>\n",
       "      <td>224950.440427</td>\n",
       "    </tr>\n",
       "  </tbody>\n",
       "</table>\n",
       "</div>"
      ],
      "text/plain": [
       "         Date   Extrapolated\n",
       "88 2020-04-26  116394.180856\n",
       "89 2020-04-27  137236.667353\n",
       "90 2020-04-28  161811.378607\n",
       "91 2020-04-29  190786.637068\n",
       "92 2020-04-30  224950.440427"
      ]
     },
     "execution_count": 26,
     "metadata": {},
     "output_type": "execute_result"
    }
   ],
   "source": [
    "df_extrapolated.tail()"
   ]
  },
  {
   "cell_type": "code",
   "execution_count": 27,
   "metadata": {},
   "outputs": [
    {
     "data": {
      "text/html": [
       "<div>\n",
       "<style scoped>\n",
       "    .dataframe tbody tr th:only-of-type {\n",
       "        vertical-align: middle;\n",
       "    }\n",
       "\n",
       "    .dataframe tbody tr th {\n",
       "        vertical-align: top;\n",
       "    }\n",
       "\n",
       "    .dataframe thead th {\n",
       "        text-align: right;\n",
       "    }\n",
       "</style>\n",
       "<table border=\"1\" class=\"dataframe\">\n",
       "  <thead>\n",
       "    <tr style=\"text-align: right;\">\n",
       "      <th></th>\n",
       "      <th>Date</th>\n",
       "      <th>Commulative Total Count of Confirmed Cases In India</th>\n",
       "    </tr>\n",
       "  </thead>\n",
       "  <tbody>\n",
       "    <tr>\n",
       "      <th>73</th>\n",
       "      <td>2020-04-11</td>\n",
       "      <td>NaN</td>\n",
       "    </tr>\n",
       "    <tr>\n",
       "      <th>74</th>\n",
       "      <td>2020-04-12</td>\n",
       "      <td>NaN</td>\n",
       "    </tr>\n",
       "    <tr>\n",
       "      <th>75</th>\n",
       "      <td>2020-04-13</td>\n",
       "      <td>NaN</td>\n",
       "    </tr>\n",
       "    <tr>\n",
       "      <th>76</th>\n",
       "      <td>2020-04-14</td>\n",
       "      <td>NaN</td>\n",
       "    </tr>\n",
       "    <tr>\n",
       "      <th>77</th>\n",
       "      <td>2020-04-15</td>\n",
       "      <td>NaN</td>\n",
       "    </tr>\n",
       "  </tbody>\n",
       "</table>\n",
       "</div>"
      ],
      "text/plain": [
       "         Date  Commulative Total Count of Confirmed Cases In India\n",
       "73 2020-04-11                                                NaN  \n",
       "74 2020-04-12                                                NaN  \n",
       "75 2020-04-13                                                NaN  \n",
       "76 2020-04-14                                                NaN  \n",
       "77 2020-04-15                                                NaN  "
      ]
     },
     "execution_count": 27,
     "metadata": {},
     "output_type": "execute_result"
    }
   ],
   "source": [
    "df_real.tail()"
   ]
  },
  {
   "cell_type": "code",
   "execution_count": 28,
   "metadata": {},
   "outputs": [
    {
     "data": {
      "text/plain": [
       "'InteractiveCharts/COVID19-Cases-India-Compared02-Final.html'"
      ]
     },
     "execution_count": 28,
     "metadata": {},
     "output_type": "execute_result"
    }
   ],
   "source": [
    "trace_2 = go.Scatter(x=df_extrapolated['Date'],\n",
    "                     y=df_extrapolated['Extrapolated'], \n",
    "                     name=\"Modeled\", mode='lines+markers', line = dict(color='plum'))\n",
    "\n",
    "trace_1 = go.Scatter(x=df_real['Date'],\n",
    "                     y=df_real['Commulative Total Count of Confirmed Cases In India'],\n",
    "                     name=\"Actual\", line = dict(color='red', dash='solid') )\n",
    "\n",
    "\n",
    "data = [trace_2, trace_1]\n",
    "\n",
    "layout = go.Layout(title='Measuring Impact of #21DayLockdown on COVID-19 pandemic spread in India',\n",
    "                   xaxis_title='Daily count of COVID-19 Spread in India',\n",
    "                   yaxis_title='# of Cases')\n",
    "\n",
    "fig = go.Figure(data=data, layout=layout)\n",
    "pyo.plot(fig, filename=\"InteractiveCharts/COVID19-Cases-India-Compared02-Final.html\")"
   ]
  },
  {
   "cell_type": "code",
   "execution_count": 29,
   "metadata": {},
   "outputs": [
    {
     "data": {
      "text/html": [
       "<div>\n",
       "<style scoped>\n",
       "    .dataframe tbody tr th:only-of-type {\n",
       "        vertical-align: middle;\n",
       "    }\n",
       "\n",
       "    .dataframe tbody tr th {\n",
       "        vertical-align: top;\n",
       "    }\n",
       "\n",
       "    .dataframe thead th {\n",
       "        text-align: right;\n",
       "    }\n",
       "</style>\n",
       "<table border=\"1\" class=\"dataframe\">\n",
       "  <thead>\n",
       "    <tr style=\"text-align: right;\">\n",
       "      <th></th>\n",
       "      <th>Date</th>\n",
       "      <th>Extrapolated</th>\n",
       "      <th>Actual</th>\n",
       "      <th>Predicted Minus Actual</th>\n",
       "    </tr>\n",
       "  </thead>\n",
       "  <tbody>\n",
       "    <tr>\n",
       "      <th>63</th>\n",
       "      <td>2020-04-01</td>\n",
       "      <td>1894.344215</td>\n",
       "      <td>1834.0</td>\n",
       "      <td>60.344215</td>\n",
       "    </tr>\n",
       "    <tr>\n",
       "      <th>64</th>\n",
       "      <td>2020-04-02</td>\n",
       "      <td>2233.560861</td>\n",
       "      <td>2069.0</td>\n",
       "      <td>164.560861</td>\n",
       "    </tr>\n",
       "    <tr>\n",
       "      <th>65</th>\n",
       "      <td>2020-04-03</td>\n",
       "      <td>2633.520393</td>\n",
       "      <td>2547.0</td>\n",
       "      <td>86.520393</td>\n",
       "    </tr>\n",
       "    <tr>\n",
       "      <th>66</th>\n",
       "      <td>2020-04-04</td>\n",
       "      <td>3105.099924</td>\n",
       "      <td>3072.0</td>\n",
       "      <td>33.099924</td>\n",
       "    </tr>\n",
       "    <tr>\n",
       "      <th>67</th>\n",
       "      <td>2020-04-05</td>\n",
       "      <td>3661.124313</td>\n",
       "      <td>3577.0</td>\n",
       "      <td>84.124313</td>\n",
       "    </tr>\n",
       "    <tr>\n",
       "      <th>68</th>\n",
       "      <td>2020-04-06</td>\n",
       "      <td>4316.714940</td>\n",
       "      <td>4281.0</td>\n",
       "      <td>35.714940</td>\n",
       "    </tr>\n",
       "    <tr>\n",
       "      <th>69</th>\n",
       "      <td>2020-04-07</td>\n",
       "      <td>5089.700945</td>\n",
       "      <td>4421.0</td>\n",
       "      <td>668.700945</td>\n",
       "    </tr>\n",
       "    <tr>\n",
       "      <th>70</th>\n",
       "      <td>2020-04-08</td>\n",
       "      <td>6001.104097</td>\n",
       "      <td>NaN</td>\n",
       "      <td>NaN</td>\n",
       "    </tr>\n",
       "    <tr>\n",
       "      <th>71</th>\n",
       "      <td>2020-04-09</td>\n",
       "      <td>7075.710492</td>\n",
       "      <td>NaN</td>\n",
       "      <td>NaN</td>\n",
       "    </tr>\n",
       "    <tr>\n",
       "      <th>72</th>\n",
       "      <td>2020-04-10</td>\n",
       "      <td>8342.744628</td>\n",
       "      <td>NaN</td>\n",
       "      <td>NaN</td>\n",
       "    </tr>\n",
       "    <tr>\n",
       "      <th>73</th>\n",
       "      <td>2020-04-11</td>\n",
       "      <td>9836.664178</td>\n",
       "      <td>NaN</td>\n",
       "      <td>NaN</td>\n",
       "    </tr>\n",
       "    <tr>\n",
       "      <th>74</th>\n",
       "      <td>2020-04-12</td>\n",
       "      <td>11598.097084</td>\n",
       "      <td>NaN</td>\n",
       "      <td>NaN</td>\n",
       "    </tr>\n",
       "    <tr>\n",
       "      <th>75</th>\n",
       "      <td>2020-04-13</td>\n",
       "      <td>13674.946460</td>\n",
       "      <td>NaN</td>\n",
       "      <td>NaN</td>\n",
       "    </tr>\n",
       "    <tr>\n",
       "      <th>76</th>\n",
       "      <td>2020-04-14</td>\n",
       "      <td>16123.693338</td>\n",
       "      <td>NaN</td>\n",
       "      <td>NaN</td>\n",
       "    </tr>\n",
       "    <tr>\n",
       "      <th>77</th>\n",
       "      <td>2020-04-15</td>\n",
       "      <td>19010.932701</td>\n",
       "      <td>NaN</td>\n",
       "      <td>NaN</td>\n",
       "    </tr>\n",
       "    <tr>\n",
       "      <th>78</th>\n",
       "      <td>2020-04-16</td>\n",
       "      <td>22415.184574</td>\n",
       "      <td>NaN</td>\n",
       "      <td>NaN</td>\n",
       "    </tr>\n",
       "    <tr>\n",
       "      <th>79</th>\n",
       "      <td>2020-04-17</td>\n",
       "      <td>26429.029410</td>\n",
       "      <td>NaN</td>\n",
       "      <td>NaN</td>\n",
       "    </tr>\n",
       "    <tr>\n",
       "      <th>80</th>\n",
       "      <td>2020-04-18</td>\n",
       "      <td>31161.625873</td>\n",
       "      <td>NaN</td>\n",
       "      <td>NaN</td>\n",
       "    </tr>\n",
       "    <tr>\n",
       "      <th>81</th>\n",
       "      <td>2020-04-19</td>\n",
       "      <td>36741.679461</td>\n",
       "      <td>NaN</td>\n",
       "      <td>NaN</td>\n",
       "    </tr>\n",
       "    <tr>\n",
       "      <th>82</th>\n",
       "      <td>2020-04-20</td>\n",
       "      <td>43320.942723</td>\n",
       "      <td>NaN</td>\n",
       "      <td>NaN</td>\n",
       "    </tr>\n",
       "    <tr>\n",
       "      <th>83</th>\n",
       "      <td>2020-04-21</td>\n",
       "      <td>51078.342252</td>\n",
       "      <td>NaN</td>\n",
       "      <td>NaN</td>\n",
       "    </tr>\n",
       "    <tr>\n",
       "      <th>84</th>\n",
       "      <td>2020-04-22</td>\n",
       "      <td>60224.844687</td>\n",
       "      <td>NaN</td>\n",
       "      <td>NaN</td>\n",
       "    </tr>\n",
       "    <tr>\n",
       "      <th>85</th>\n",
       "      <td>2020-04-23</td>\n",
       "      <td>71009.194068</td>\n",
       "      <td>NaN</td>\n",
       "      <td>NaN</td>\n",
       "    </tr>\n",
       "    <tr>\n",
       "      <th>86</th>\n",
       "      <td>2020-04-24</td>\n",
       "      <td>83724.676557</td>\n",
       "      <td>NaN</td>\n",
       "      <td>NaN</td>\n",
       "    </tr>\n",
       "    <tr>\n",
       "      <th>87</th>\n",
       "      <td>2020-04-25</td>\n",
       "      <td>98717.096519</td>\n",
       "      <td>NaN</td>\n",
       "      <td>NaN</td>\n",
       "    </tr>\n",
       "    <tr>\n",
       "      <th>88</th>\n",
       "      <td>2020-04-26</td>\n",
       "      <td>116394.180856</td>\n",
       "      <td>NaN</td>\n",
       "      <td>NaN</td>\n",
       "    </tr>\n",
       "    <tr>\n",
       "      <th>89</th>\n",
       "      <td>2020-04-27</td>\n",
       "      <td>137236.667353</td>\n",
       "      <td>NaN</td>\n",
       "      <td>NaN</td>\n",
       "    </tr>\n",
       "    <tr>\n",
       "      <th>90</th>\n",
       "      <td>2020-04-28</td>\n",
       "      <td>161811.378607</td>\n",
       "      <td>NaN</td>\n",
       "      <td>NaN</td>\n",
       "    </tr>\n",
       "    <tr>\n",
       "      <th>91</th>\n",
       "      <td>2020-04-29</td>\n",
       "      <td>190786.637068</td>\n",
       "      <td>NaN</td>\n",
       "      <td>NaN</td>\n",
       "    </tr>\n",
       "    <tr>\n",
       "      <th>92</th>\n",
       "      <td>2020-04-30</td>\n",
       "      <td>224950.440427</td>\n",
       "      <td>NaN</td>\n",
       "      <td>NaN</td>\n",
       "    </tr>\n",
       "  </tbody>\n",
       "</table>\n",
       "</div>"
      ],
      "text/plain": [
       "         Date   Extrapolated  Actual  Predicted Minus Actual\n",
       "63 2020-04-01    1894.344215  1834.0               60.344215\n",
       "64 2020-04-02    2233.560861  2069.0              164.560861\n",
       "65 2020-04-03    2633.520393  2547.0               86.520393\n",
       "66 2020-04-04    3105.099924  3072.0               33.099924\n",
       "67 2020-04-05    3661.124313  3577.0               84.124313\n",
       "68 2020-04-06    4316.714940  4281.0               35.714940\n",
       "69 2020-04-07    5089.700945  4421.0              668.700945\n",
       "70 2020-04-08    6001.104097     NaN                     NaN\n",
       "71 2020-04-09    7075.710492     NaN                     NaN\n",
       "72 2020-04-10    8342.744628     NaN                     NaN\n",
       "73 2020-04-11    9836.664178     NaN                     NaN\n",
       "74 2020-04-12   11598.097084     NaN                     NaN\n",
       "75 2020-04-13   13674.946460     NaN                     NaN\n",
       "76 2020-04-14   16123.693338     NaN                     NaN\n",
       "77 2020-04-15   19010.932701     NaN                     NaN\n",
       "78 2020-04-16   22415.184574     NaN                     NaN\n",
       "79 2020-04-17   26429.029410     NaN                     NaN\n",
       "80 2020-04-18   31161.625873     NaN                     NaN\n",
       "81 2020-04-19   36741.679461     NaN                     NaN\n",
       "82 2020-04-20   43320.942723     NaN                     NaN\n",
       "83 2020-04-21   51078.342252     NaN                     NaN\n",
       "84 2020-04-22   60224.844687     NaN                     NaN\n",
       "85 2020-04-23   71009.194068     NaN                     NaN\n",
       "86 2020-04-24   83724.676557     NaN                     NaN\n",
       "87 2020-04-25   98717.096519     NaN                     NaN\n",
       "88 2020-04-26  116394.180856     NaN                     NaN\n",
       "89 2020-04-27  137236.667353     NaN                     NaN\n",
       "90 2020-04-28  161811.378607     NaN                     NaN\n",
       "91 2020-04-29  190786.637068     NaN                     NaN\n",
       "92 2020-04-30  224950.440427     NaN                     NaN"
      ]
     },
     "execution_count": 29,
     "metadata": {},
     "output_type": "execute_result"
    }
   ],
   "source": [
    "df_extrapolated['Actual'] = df_real['Commulative Total Count of Confirmed Cases In India'] \n",
    "df_extrapolated['Predicted Minus Actual'] = df_extrapolated['Extrapolated'] - df_extrapolated['Actual']\n",
    "df_extrapolated.tail(30)"
   ]
  },
  {
   "cell_type": "code",
   "execution_count": null,
   "metadata": {},
   "outputs": [],
   "source": []
  }
 ],
 "metadata": {
  "kernelspec": {
   "display_name": "TensorFlow-GPU",
   "language": "python",
   "name": "tf-gpu"
  },
  "language_info": {
   "codemirror_mode": {
    "name": "ipython",
    "version": 3
   },
   "file_extension": ".py",
   "mimetype": "text/x-python",
   "name": "python",
   "nbconvert_exporter": "python",
   "pygments_lexer": "ipython3",
   "version": "3.7.6"
  }
 },
 "nbformat": 4,
 "nbformat_minor": 2
}
